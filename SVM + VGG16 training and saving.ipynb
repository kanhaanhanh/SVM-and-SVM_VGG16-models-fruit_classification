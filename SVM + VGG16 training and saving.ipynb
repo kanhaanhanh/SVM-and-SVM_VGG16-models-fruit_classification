{
 "cells": [
  {
   "cell_type": "markdown",
   "id": "19062818",
   "metadata": {},
   "source": [
    "# Build and Training SVM classifier using VGG16 for Extract Feature"
   ]
  },
  {
   "cell_type": "markdown",
   "id": "fe291ce0",
   "metadata": {},
   "source": [
    "+ Import neccessary library\n",
    "+ read file features.h5 and divide to X and y\n",
    "+ split the dataset\n",
    "\n",
    "+ Build SVM model as clf and train model\n",
    "+ find and print accuracy of the model\n",
    "+ save model"
   ]
  },
  {
   "cell_type": "code",
   "execution_count": 6,
   "id": "c179190e",
   "metadata": {},
   "outputs": [
    {
     "name": "stdout",
     "output_type": "stream",
     "text": [
      "The accuracy of the classifier is 86.89%.\n"
     ]
    }
   ],
   "source": [
    "import h5py\n",
    "from sklearn import svm\n",
    "from sklearn.model_selection import train_test_split\n",
    "from joblib import dump\n",
    "\n",
    "# Load the extracted features from an HDF5 file\n",
    "with h5py.File('features.h5', 'r') as hf:\n",
    "    X = hf['features'][:]\n",
    "    y = hf['labels'][:]\n",
    "\n",
    "# Split the dataset into training and testing data\n",
    "X_train, X_test, y_train, y_test = train_test_split(X, y, test_size=0.2)\n",
    "\n",
    "# Train the classifier using SVM\n",
    "clf = svm.SVC()\n",
    "clf.fit(X_train, y_train)\n",
    "\n",
    "# Evaluate the classifier on the testing data\n",
    "accuracy = clf.score(X_test, y_test)\n",
    "print(f'The accuracy of the classifier is {accuracy:.2%}.')\n",
    "\n",
    "# Save the trained classifier to a file\n",
    "dump(clf, 'svm_classifier.joblib')"
   ]
  }
 ],
 "metadata": {
  "kernelspec": {
   "display_name": "Python 3 (ipykernel)",
   "language": "python",
   "name": "python3"
  },
  "language_info": {
   "codemirror_mode": {
    "name": "ipython",
    "version": 3
   },
   "file_extension": ".py",
   "mimetype": "text/x-python",
   "name": "python",
   "nbconvert_exporter": "python",
   "pygments_lexer": "ipython3",
   "version": "3.11.3"
  }
 },
 "nbformat": 4,
 "nbformat_minor": 5
}

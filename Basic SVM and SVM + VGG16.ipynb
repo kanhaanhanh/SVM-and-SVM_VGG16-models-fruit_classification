{
 "cells": [
  {
   "cell_type": "markdown",
   "id": "41ae0292",
   "metadata": {},
   "source": [
    "# Basic SVM model"
   ]
  },
  {
   "cell_type": "markdown",
   "id": "570ee39d",
   "metadata": {},
   "source": [
    "Import neccessary libray, load dataset, set categories name and preprocess image data "
   ]
  },
  {
   "cell_type": "code",
   "execution_count": 33,
   "id": "c19dba00",
   "metadata": {},
   "outputs": [
    {
     "name": "stdout",
     "output_type": "stream",
     "text": [
      "917\n"
     ]
    }
   ],
   "source": [
    "import os                         \n",
    "import numpy as np                \n",
    "import cv2                       \n",
    "import matplotlib.pyplot as plt   \n",
    "import pickle    \n",
    "data_dir = 'SVM folder/'\n",
    "categories = ['Avocado', 'Banana']\n",
    "data = []\n",
    "#Resharping image\n",
    "for category in categories:\n",
    "    #Create a new path which concatenate directory with category \n",
    "    path = os.path.join(data_dir, category)\n",
    "    #Determine the current index category in the list represent as numerical data\n",
    "    label = categories.index(category)\n",
    "    \n",
    "    for img in os.listdir(path):\n",
    "        imgpath = os.path.join(path, img)\n",
    "        #Read image\n",
    "        pet_img = cv2.imread(imgpath, 0)\n",
    "        try:\n",
    "            #Resize image to (50, 50)\n",
    "            pet_img = cv2.resize(pet_img, (50, 50))\n",
    "            #Converting from 2-dimensional to 1-dimensional array\n",
    "            #(Because SVM works with input data which is in vector form)\n",
    "            image = np.array(pet_img).flatten()\n",
    "            #Add image and label in Data\n",
    "            data.append([image, label])\n",
    "        except Exception as e:\n",
    "            pass\n",
    "#Display size image in data   \n",
    "print(len(data))"
   ]
  },
  {
   "cell_type": "markdown",
   "id": "6c83d2c3",
   "metadata": {},
   "source": [
    "The same step but we can use tensorflow for preprocess image dataset"
   ]
  },
  {
   "cell_type": "code",
   "execution_count": 27,
   "id": "0416c615",
   "metadata": {},
   "outputs": [
    {
     "name": "stdout",
     "output_type": "stream",
     "text": [
      "917\n"
     ]
    }
   ],
   "source": [
    "import tensorflow as tf\n",
    "from tensorflow.keras.preprocessing.image import load_img, img_to_array\n",
    "import os\n",
    "import numpy as np \n",
    "import pickle  \n",
    "data_dir = 'SVM folder/'\n",
    "categories = ['Avocado', 'Banana']\n",
    "img_height = 50\n",
    "img_width = 50\n",
    "\n",
    "# Load and preprocess the images\n",
    "data = []\n",
    "for category in categories:\n",
    "    path = os.path.join(data_dir, category)\n",
    "    label = categories.index(category)\n",
    "    for img in os.listdir(path):\n",
    "        img_path = os.path.join(path, img)\n",
    "        try:\n",
    "            # Load the image and resize it to (img_height, img_width)\n",
    "            img = load_img(img_path, color_mode='grayscale', target_size=(img_height, img_width))\n",
    "            # Convert the image to a numpy array and scale the pixel values to [0, 1]\n",
    "            image = np.array(img).flatten()\n",
    "            # Add the image and label to the data list\n",
    "            data.append((image, label))\n",
    "        except Exception as e:\n",
    "            pass\n",
    "\n",
    "# Display the number of images in the data list\n",
    "print(len(data))"
   ]
  },
  {
   "cell_type": "markdown",
   "id": "cffc1211",
   "metadata": {},
   "source": [
    "write process to file data.pickle and save "
   ]
  },
  {
   "cell_type": "code",
   "execution_count": 28,
   "id": "03472bcb",
   "metadata": {},
   "outputs": [],
   "source": [
    "#Write the data to file after Resharping\n",
    "pick_in = open('data.pickle', 'wb')  #Write data\n",
    "pickle.dump(data, pick_in)            #Save data to pickle file\n",
    "pick_in.close()"
   ]
  },
  {
   "cell_type": "markdown",
   "id": "5c6cd754",
   "metadata": {},
   "source": [
    "Read file that we store extract feature from previous step"
   ]
  },
  {
   "cell_type": "code",
   "execution_count": 29,
   "id": "a2af5a15",
   "metadata": {},
   "outputs": [],
   "source": [
    "#Load and Read data store in data \n",
    "pick_in = open('data.pickle', 'rb')\n",
    "data = pickle.load(pick_in)\n",
    "pick_in.close()"
   ]
  },
  {
   "cell_type": "markdown",
   "id": "39849564",
   "metadata": {},
   "source": [
    "Initialize features and lables for store data from data.pickle file"
   ]
  },
  {
   "cell_type": "code",
   "execution_count": 31,
   "id": "cdc413eb",
   "metadata": {},
   "outputs": [],
   "source": [
    "import random\n",
    "#Initialize features and labels\n",
    "random.shuffle(data) \n",
    "features = []\n",
    "labels = []"
   ]
  },
  {
   "cell_type": "code",
   "execution_count": 32,
   "id": "edbd4c1f",
   "metadata": {},
   "outputs": [],
   "source": [
    "#Get feature and label from data store in each arrays\n",
    "for feature, label in data:\n",
    "    features.append(feature)\n",
    "    labels.append(label)"
   ]
  },
  {
   "cell_type": "markdown",
   "id": "8fa90705",
   "metadata": {},
   "source": [
    "divid data for train and testing by using train_test_split"
   ]
  },
  {
   "cell_type": "code",
   "execution_count": 35,
   "id": "aaa2b6d9",
   "metadata": {},
   "outputs": [],
   "source": [
    "from sklearn.model_selection import train_test_split\n",
    "#50% of Data is token for testing\n",
    "xtrain, xtest, ytrain, ytest = train_test_split(features, labels, test_size = 0.50)"
   ]
  },
  {
   "cell_type": "markdown",
   "id": "6fa423ce",
   "metadata": {},
   "source": [
    "+ Build Model and Train data using svm.SVC() and .fit(xtrain, ytrain)\n",
    "+ Evaluate the classifier on the testing data \n",
    "+ Save model.sav for prediction"
   ]
  },
  {
   "cell_type": "code",
   "execution_count": 41,
   "id": "a207db18",
   "metadata": {},
   "outputs": [
    {
     "name": "stdout",
     "output_type": "stream",
     "text": [
      "The accuracy of the classifier is 100.00%.\n"
     ]
    }
   ],
   "source": [
    "from sklearn import svm \n",
    "#Build Model and Model Training\n",
    "model = svm.SVC()\n",
    "model.fit(xtrain, ytrain)\n",
    "\n",
    "# Evaluate the classifier on the testing data\n",
    "accuracy = model.score(xtest, ytest)\n",
    "print(f'The accuracy of the classifier is {accuracy:.2%}.')\n",
    "\n",
    "#Save as model.sav\n",
    "pick = open('model.sav', 'wb')\n",
    "pickle.dump(model,  pick)\n",
    "pick.close()"
   ]
  },
  {
   "cell_type": "markdown",
   "id": "43625565",
   "metadata": {},
   "source": [
    "This output high because we use small dataset"
   ]
  },
  {
   "cell_type": "markdown",
   "id": "758e5b39",
   "metadata": {},
   "source": [
    "+ Load model.sav that sav svm model in previous step\n",
    "+ create prediction use this model and if we want to know accuracy object for test we can write model.score(xtest, ytest)\n",
    "+ set categories\n",
    "+ print accuracy and prediction\n",
    "+ show image of object"
   ]
  },
  {
   "cell_type": "code",
   "execution_count": 44,
   "id": "983b4145",
   "metadata": {},
   "outputs": [
    {
     "name": "stdout",
     "output_type": "stream",
     "text": [
      "Accuracy:  1.0\n",
      "Prediction:  Banana\n"
     ]
    },
    {
     "data": {
      "image/png": "[encoded data removed]",
      "text/plain": [
       "<Figure size 640x480 with 1 Axes>"
      ]
     },
     "metadata": {},
     "output_type": "display_data"
    }
   ],
   "source": [
    "#Read Model for Prediction\n",
    "pick =  open('model.sav', 'rb')\n",
    "model = pickle.load(pick)\n",
    "pick.close()\n",
    "\n",
    "#Create prediction and accuracy object for test\n",
    "prediction = model.predict(xtest)\n",
    "accuracy = model.score(xtest, ytest)\n",
    "\n",
    "#Divide 2 Categories Dataset\n",
    "categories = ['Avocado', 'Banana']\n",
    "\n",
    "#Display the Accuracy and the prediction of animal\n",
    "print('Accuracy: ', accuracy)\n",
    "print('Prediction: ', categories[prediction[0]])\n",
    "\n",
    "#Display pet image\n",
    "pet = xtest[0].reshape(50,50)\n",
    "plt.imshow(pet, cmap='gray')\n",
    "plt.show()"
   ]
  },
  {
   "cell_type": "markdown",
   "id": "e5ad5ff0",
   "metadata": {},
   "source": [
    "# For VGG16 + SVM"
   ]
  },
  {
   "cell_type": "markdown",
   "id": "e9a17232",
   "metadata": {},
   "source": [
    "Import neccessary library and load VGG16 model for extract feature for svm classifier"
   ]
  },
  {
   "cell_type": "code",
   "execution_count": 15,
   "id": "5bcf9f68",
   "metadata": {},
   "outputs": [],
   "source": [
    "import h5py\n",
    "import numpy as np\n",
    "from keras.applications.vgg16 import VGG16\n",
    "from keras.preprocessing.image import load_img, img_to_array\n",
    "from sklearn.preprocessing import LabelEncoder\n",
    "import glob\n",
    "# Load the VGG16 model\n",
    "model = VGG16()\n"
   ]
  },
  {
   "cell_type": "markdown",
   "id": "8d25eccc",
   "metadata": {},
   "source": [
    "Load dataset and divide to images and labels of image"
   ]
  },
  {
   "cell_type": "code",
   "execution_count": 23,
   "id": "8d99725a",
   "metadata": {},
   "outputs": [],
   "source": [
    "import os\n",
    "data_dir = 'train/'\n",
    "img_paths = glob.glob(os.path.join(data_dir, '*', '*.jpg'))\n",
    "labels = [os.path.basename(os.path.dirname(img_path)) for img_path in img_paths]"
   ]
  },
  {
   "cell_type": "markdown",
   "id": "b418ee7a",
   "metadata": {},
   "source": [
    "+ Resize image and then convert to numpy array\n",
    "  Reshape image data and put data to VGG16\n",
    "  Extract feature using VGG16\n",
    "  Add feature and its label to features[] and label_name[]\n",
    "+ Convert list of feature and lable_name to array"
   ]
  },
  {
   "cell_type": "code",
   "execution_count": 24,
   "id": "4316dc0b",
   "metadata": {},
   "outputs": [],
   "source": [
    "from keras.applications.vgg16 import preprocess_input\n",
    "# Extract features from the dataset using VGG16 model\n",
    "features = []\n",
    "label_name = []\n",
    "for img_path, label in zip(img_paths, labels):\n",
    "    # Load the image\n",
    "    img = load_img(img_path, target_size=(224, 224))\n",
    "\n",
    "    # Convert the image to a numpy array\n",
    "    img_array = img_to_array(img)\n",
    "\n",
    "    # Reshape the image data for the model\n",
    "    img_array = img_array.reshape((1, img_array.shape[0], img_array.shape[1], img_array.shape[2]))\n",
    "\n",
    "    # Preprocess the image for the VGG16 model\n",
    "    img_array = preprocess_input(img_array)\n",
    "\n",
    "    # Extract features from the image using VGG16 model\n",
    "    features_extracted = model.predict(img_array)\n",
    "\n",
    "    # Add the features and label to the lists\n",
    "    features.append(features_extracted)\n",
    "    label_name.append(label)\n",
    "\n",
    "# Convert the lists to numpy arrays\n",
    "features = np.array(features)\n",
    "label_name = np.array(label_name)\n",
    "\n"
   ]
  },
  {
   "cell_type": "markdown",
   "id": "948cf9e2",
   "metadata": {},
   "source": [
    "Note: This step require hardware and time base on size of dataset"
   ]
  },
  {
   "cell_type": "markdown",
   "id": "a87e4704",
   "metadata": {},
   "source": [
    "Reshape features and encode lables as integers for write to file features.h5"
   ]
  },
  {
   "cell_type": "code",
   "execution_count": 22,
   "id": "3ea34558",
   "metadata": {},
   "outputs": [],
   "source": [
    "# Flatten the feature vectors\n",
    "features = features.reshape((features.shape[0], features.shape[2]))\n",
    "\n",
    "# Encode the labels as integers\n",
    "le = LabelEncoder()\n",
    "labels_encoded = le.fit_transform(label_name)\n",
    "\n",
    "# Save the features and labels to an HDF5 file\n",
    "with h5py.File('features.h5', 'w') as hf:\n",
    "    hf.create_dataset('features', data=features)\n",
    "    hf.create_dataset('labels', data=labels_encoded)"
   ]
  },
  {
   "cell_type": "code",
   "execution_count": 20,
   "id": "280f93ac",
   "metadata": {},
   "outputs": [
    {
     "data": {
      "text/plain": [
       "(16854,)"
      ]
     },
     "execution_count": 20,
     "metadata": {},
     "output_type": "execute_result"
    }
   ],
   "source": [
    "label_name.shape"
   ]
  },
  {
   "cell_type": "code",
   "execution_count": 21,
   "id": "008bdf4f",
   "metadata": {},
   "outputs": [
    {
     "data": {
      "text/plain": [
       "(16854, 1, 1000)"
      ]
     },
     "execution_count": 21,
     "metadata": {},
     "output_type": "execute_result"
    }
   ],
   "source": [
    "features.shape"
   ]
  },
  {
   "cell_type": "code",
   "execution_count": null,
   "id": "432226af",
   "metadata": {},
   "outputs": [],
   "source": []
  }
 ],
 "metadata": {
  "kernelspec": {
   "display_name": "Python 3 (ipykernel)",
   "language": "python",
   "name": "python3"
  },
  "language_info": {
   "codemirror_mode": {
    "name": "ipython",
    "version": 3
   },
   "file_extension": ".py",
   "mimetype": "text/x-python",
   "name": "python",
   "nbconvert_exporter": "python",
   "pygments_lexer": "ipython3",
   "version": "3.11.3"
  }
 },
 "nbformat": 4,
 "nbformat_minor": 5
}
